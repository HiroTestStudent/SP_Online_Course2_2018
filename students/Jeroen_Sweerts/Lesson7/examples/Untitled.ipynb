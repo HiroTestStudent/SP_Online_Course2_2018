{
 "cells": [
  {
   "cell_type": "code",
   "execution_count": 2,
   "metadata": {},
   "outputs": [],
   "source": [
    "from peewee import *\n",
    "\n",
    "db = SqliteDatabase('people.db')\n",
    "\n",
    "class Person(Model):\n",
    "    name = CharField()\n",
    "    birthday = DateField()\n",
    "\n",
    "    class Meta:\n",
    "        \"\"\"Model metadata is “anything that’s not a field”, \n",
    "        such as ordering options (ordering), \n",
    "        database table name (db_table), \n",
    "        or human-readable singular and plural names (verbose_name and verbose_name_plural). \n",
    "        None are required, and adding class Meta to a model is completely optional.\"\"\"\n",
    "        database = db # This model uses the \"people.db\" database.\n",
    "        \n",
    "        \n",
    "class Pet(Model):\n",
    "    owner = ForeignKeyField(Person, backref='pets')\n",
    "    name = CharField()\n",
    "    animal_type = CharField()\n",
    "\n",
    "    class Meta:\n",
    "        database = db # this model uses the \"people.db\" database"
   ]
  },
  {
   "cell_type": "code",
   "execution_count": 3,
   "metadata": {},
   "outputs": [
    {
     "data": {
      "text/plain": [
       "True"
      ]
     },
     "execution_count": 3,
     "metadata": {},
     "output_type": "execute_result"
    }
   ],
   "source": [
    "db.connect()\n"
   ]
  },
  {
   "cell_type": "code",
   "execution_count": 4,
   "metadata": {},
   "outputs": [],
   "source": [
    "db.create_tables([Person, Pet])"
   ]
  },
  {
   "cell_type": "code",
   "execution_count": 6,
   "metadata": {},
   "outputs": [
    {
     "data": {
      "text/plain": [
       "1"
      ]
     },
     "execution_count": 6,
     "metadata": {},
     "output_type": "execute_result"
    }
   ],
   "source": [
    "from datetime import date\n",
    "uncle_bob = Person(name='Bob', birthday=date(1960, 1, 15))\n",
    "uncle_bob.save() # bob is now stored in the database"
   ]
  },
  {
   "cell_type": "code",
   "execution_count": 7,
   "metadata": {},
   "outputs": [],
   "source": [
    "grandma = Person.create(name='Grandma', birthday=date(1935, 3, 1))\n",
    "herb = Person.create(name='Herb', birthday=date(1950, 5, 5))"
   ]
  },
  {
   "cell_type": "code",
   "execution_count": 8,
   "metadata": {},
   "outputs": [
    {
     "data": {
      "text/plain": [
       "1"
      ]
     },
     "execution_count": 8,
     "metadata": {},
     "output_type": "execute_result"
    }
   ],
   "source": [
    "grandma.name = 'Grandma L.'\n",
    "grandma.save()  # Update grandma's name in the database."
   ]
  },
  {
   "cell_type": "code",
   "execution_count": 9,
   "metadata": {},
   "outputs": [],
   "source": [
    "bob_kitty = Pet.create(owner=uncle_bob, name='Kitty', animal_type='cat')\n",
    "herb_fido = Pet.create(owner=herb, name='Fido', animal_type='dog')\n",
    "herb_mittens = Pet.create(owner=herb, name='Mittens', animal_type='cat')\n",
    "herb_mittens_jr = Pet.create(owner=herb, name='Mittens Jr', animal_type='cat')"
   ]
  },
  {
   "cell_type": "code",
   "execution_count": 10,
   "metadata": {},
   "outputs": [
    {
     "data": {
      "text/plain": [
       "1"
      ]
     },
     "execution_count": 10,
     "metadata": {},
     "output_type": "execute_result"
    }
   ],
   "source": [
    "herb_mittens.delete_instance()"
   ]
  },
  {
   "cell_type": "code",
   "execution_count": 11,
   "metadata": {},
   "outputs": [
    {
     "data": {
      "text/plain": [
       "1"
      ]
     },
     "execution_count": 11,
     "metadata": {},
     "output_type": "execute_result"
    }
   ],
   "source": [
    "herb_fido.owner = uncle_bob\n",
    "herb_fido.save()"
   ]
  },
  {
   "cell_type": "code",
   "execution_count": 16,
   "metadata": {},
   "outputs": [
    {
     "name": "stdout",
     "output_type": "stream",
     "text": [
      "Grandma L.\n"
     ]
    }
   ],
   "source": [
    "grandma = Person.select().where(Person.name == 'Grandma L.').get()\n",
    "print(grandma.name)"
   ]
  },
  {
   "cell_type": "code",
   "execution_count": 17,
   "metadata": {},
   "outputs": [
    {
     "name": "stdout",
     "output_type": "stream",
     "text": [
      "Bob\n",
      "Bob\n",
      "Grandma L.\n",
      "Herb\n"
     ]
    }
   ],
   "source": [
    "for person in Person.select():\n",
    "    print(person.name)"
   ]
  },
  {
   "cell_type": "code",
   "execution_count": 18,
   "metadata": {},
   "outputs": [
    {
     "name": "stdout",
     "output_type": "stream",
     "text": [
      "Kitty Bob\n",
      "Mittens Jr Herb\n"
     ]
    }
   ],
   "source": [
    "query = Pet.select().where(Pet.animal_type == 'cat')\n",
    "for pet in query:\n",
    "    print(pet.name, pet.owner.name)"
   ]
  },
  {
   "cell_type": "code",
   "execution_count": 19,
   "metadata": {},
   "outputs": [
    {
     "name": "stdout",
     "output_type": "stream",
     "text": [
      "Kitty\n",
      "Fido\n"
     ]
    }
   ],
   "source": [
    "for pet in Pet.select().join(Person).where(Person.name == 'Bob'):\n",
    "    print(pet.name)"
   ]
  },
  {
   "cell_type": "code",
   "execution_count": 20,
   "metadata": {},
   "outputs": [
    {
     "name": "stdout",
     "output_type": "stream",
     "text": [
      "Fido\n",
      "Kitty\n"
     ]
    }
   ],
   "source": [
    "for pet in Pet.select().where(Pet.owner == uncle_bob).order_by(Pet.name):\n",
    "    print(pet.name)"
   ]
  },
  {
   "cell_type": "code",
   "execution_count": 21,
   "metadata": {},
   "outputs": [
    {
     "name": "stdout",
     "output_type": "stream",
     "text": [
      "Bob 1960-01-15\n",
      "Bob 1960-01-15\n",
      "Herb 1950-05-05\n",
      "Grandma L. 1935-03-01\n"
     ]
    }
   ],
   "source": [
    "for person in Person.select().order_by(Person.birthday.desc()):\n",
    "    print(person.name, person.birthday)"
   ]
  },
  {
   "cell_type": "code",
   "execution_count": 22,
   "metadata": {},
   "outputs": [
    {
     "name": "stdout",
     "output_type": "stream",
     "text": [
      "Bob 1960-01-15\n",
      "Bob 1960-01-15\n",
      "Grandma L. 1935-03-01\n"
     ]
    }
   ],
   "source": [
    "d1940 = date(1940, 1, 1)\n",
    "d1960 = date(1960, 1, 1)\n",
    "query = (Person\n",
    "         .select()\n",
    "         .where((Person.birthday < d1940) | (Person.birthday > d1960)))\n",
    "\n",
    "for person in query:\n",
    "    print(person.name, person.birthday)"
   ]
  },
  {
   "cell_type": "code",
   "execution_count": 23,
   "metadata": {},
   "outputs": [
    {
     "name": "stdout",
     "output_type": "stream",
     "text": [
      "Herb 1950-05-05\n"
     ]
    }
   ],
   "source": [
    "query = (Person\n",
    "         .select()\n",
    "         .where(Person.birthday.between(d1940, d1960)))\n",
    "\n",
    "for person in query:\n",
    "    print(person.name, person.birthday)"
   ]
  },
  {
   "cell_type": "code",
   "execution_count": 24,
   "metadata": {},
   "outputs": [
    {
     "name": "stdout",
     "output_type": "stream",
     "text": [
      "Bob 0 pets\n",
      "Bob 2 pets\n",
      "Grandma L. 0 pets\n",
      "Herb 1 pets\n"
     ]
    }
   ],
   "source": [
    "for person in Person.select():\n",
    "    print(person.name, person.pets.count(), 'pets')"
   ]
  },
  {
   "cell_type": "code",
   "execution_count": 25,
   "metadata": {},
   "outputs": [
    {
     "name": "stdout",
     "output_type": "stream",
     "text": [
      "Bob no pets\n",
      "Bob Fido\n",
      "Bob Kitty\n",
      "Grandma L. no pets\n",
      "Herb Mittens Jr\n"
     ]
    }
   ],
   "source": [
    "query = (Person\n",
    "         .select(Person, Pet)\n",
    "         .join(Pet, JOIN.LEFT_OUTER)\n",
    "         .order_by(Person.name, Pet.name))\n",
    "for person in query:\n",
    "    # We need to check if they have a pet instance attached, since not all\n",
    "    # people have pets.\n",
    "    if hasattr(person, 'pet'):\n",
    "        print(person.name, person.pet.name)\n",
    "    else:\n",
    "        print(person.name, 'no pets')\n"
   ]
  },
  {
   "cell_type": "code",
   "execution_count": 26,
   "metadata": {},
   "outputs": [
    {
     "name": "stdout",
     "output_type": "stream",
     "text": [
      "Bob\n",
      "Bob\n",
      "  * Kitty\n",
      "  * Fido\n",
      "Grandma L.\n",
      "Herb\n",
      "  * Mittens Jr\n"
     ]
    }
   ],
   "source": [
    "query = Person.select().order_by(Person.name).prefetch(Pet)\n",
    "for person in query:\n",
    "    print(person.name)\n",
    "    for pet in person.pets:\n",
    "        print('  *', pet.name)"
   ]
  },
  {
   "cell_type": "code",
   "execution_count": 27,
   "metadata": {},
   "outputs": [
    {
     "data": {
      "text/plain": [
       "True"
      ]
     },
     "execution_count": 27,
     "metadata": {},
     "output_type": "execute_result"
    }
   ],
   "source": [
    "db.close()"
   ]
  }
 ],
 "metadata": {
  "kernelspec": {
   "display_name": "trading",
   "language": "python",
   "name": "trading"
  },
  "language_info": {
   "codemirror_mode": {
    "name": "ipython",
    "version": 3
   },
   "file_extension": ".py",
   "mimetype": "text/x-python",
   "name": "python",
   "nbconvert_exporter": "python",
   "pygments_lexer": "ipython3",
   "version": "3.6.6"
  }
 },
 "nbformat": 4,
 "nbformat_minor": 2
}
