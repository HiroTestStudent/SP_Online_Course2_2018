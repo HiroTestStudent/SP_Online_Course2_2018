{
 "cells": [
  {
   "cell_type": "code",
   "execution_count": 1,
   "metadata": {
    "scrolled": true
   },
   "outputs": [],
   "source": [
    "import Mailroom"
   ]
  },
  {
   "cell_type": "code",
   "execution_count": 3,
   "metadata": {},
   "outputs": [
    {
     "name": "stdout",
     "output_type": "stream",
     "text": [
      "Please choose between the following 5 actions:1. Send a Thank You; 2. Create a Report; 3. Send letters to everyone; 4. Save; 5. Load; 6. quit >  5\n",
      "\n",
      "Loading...\n",
      "Please choose between the following 3 actions:            1. Send a Thank You; 2. Create a Report; 3. Send letters to everyone; 4. Save; 5. Load; 6. quit >  2\n",
      "Donor Name           |  Total Given       |  Num Gifts  |      Average Gift        \n",
      "----------------------------------------------------------------------------\n",
      "papa                 $            11231.00             4$             2807.75\n",
      "mama                 $              280.00             4$               70.00\n",
      "bompa                $             1000.00             1$             1000.00\n",
      "bobonne              $             1000.00             2$              500.00\n",
      "onbekende            $          1000000.00             1$          1000000.00\n",
      "Please choose between the following 3 actions:            1. Send a Thank You; 2. Create a Report; 3. Send letters to everyone; 4. Save; 5. Load; 6. quit >  6\n"
     ]
    }
   ],
   "source": [
    "donor_dict = {}\n",
    "donor_dict['papa'] = [100, 5, 15]\n",
    "donor_dict['mama'] = [12, 200, 2, 66]\n",
    "donor_dict['bompa'] = [1000]\n",
    "donor_dict['bobonne'] = [500, 500]\n",
    "donor_dict['onbekende'] = [1000000]\n",
    "\n",
    "DonorDict = Mailroom.Donor_Collection(donor_dict)\n",
    "\n",
    "response = input('Please choose between the following 5 actions:\\\n",
    "1. Send a Thank You; 2. Create a Report; 3. Send letters to everyone; 4. Save; 5. Load; 6. quit >  ')\n",
    "try:\n",
    "    int(response)\n",
    "except:\n",
    "    while not response.isdigit():\n",
    "        print(\"You didn't enter a number.\")\n",
    "        print()\n",
    "        response = input('Please choose between the following 5 actions:\\\n",
    "        1. Send a Thank You; 2. Create a Report; 3. Send letters to everyone; 4. Save; 5. Load; 6. quit >  ')\n",
    "arg_dict = {1:Mailroom.thankyou, 2:Mailroom.report, 3:Mailroom.thankyoueveryone, 4:Mailroom.save, 5:Mailroom.load}\n",
    "\n",
    "while int(response) != 6:\n",
    "    try:\n",
    "        arg_dict.get(int(response))(DonorDict)\n",
    "\n",
    "    except (TypeError, ValueError):\n",
    "        print('This is an invalid choice. Please enter a number between 1 and 6.')\n",
    "        print()\n",
    "        response = input('Please choose between the following 3 actions:\\\n",
    "        1. Send a Thank You; 2. Create a Report; 3. Send letters to everyone; 4. Save; 5. Load; 6. quit >  ')\n",
    "    else:\n",
    "        response = input('Please choose between the following 3 actions:\\\n",
    "            1. Send a Thank You; 2. Create a Report; 3. Send letters to everyone; 4. Save; 5. Load; 6. quit >  ')\n",
    "    finally:\n",
    "        if not response.isdigit():\n",
    "            response = '99999'"
   ]
  }
 ],
 "metadata": {
  "kernelspec": {
   "display_name": "trading",
   "language": "python",
   "name": "trading"
  },
  "language_info": {
   "codemirror_mode": {
    "name": "ipython",
    "version": 3
   },
   "file_extension": ".py",
   "mimetype": "text/x-python",
   "name": "python",
   "nbconvert_exporter": "python",
   "pygments_lexer": "ipython3",
   "version": "3.6.6"
  }
 },
 "nbformat": 4,
 "nbformat_minor": 2
}
