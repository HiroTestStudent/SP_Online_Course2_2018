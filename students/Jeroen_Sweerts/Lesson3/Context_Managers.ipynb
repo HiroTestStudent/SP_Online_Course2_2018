{
 "cells": [
  {
   "cell_type": "code",
   "execution_count": 24,
   "metadata": {},
   "outputs": [
    {
     "name": "stdout",
     "output_type": "stream",
     "text": [
      "SMALL LOCK\n",
      "Capacity exceeded. Reduce the number of boats.\n",
      "LARGE LOCK\n",
      "Stopping the pumps.\n",
      "Opening the doors.\n",
      "Closing the doors.\n",
      "Restarting the pumps.\n"
     ]
    }
   ],
   "source": [
    "class Locke(object):\n",
    "    \"\"\"\n",
    "    From Doug Hellmann, PyMOTW\n",
    "    https://pymotw.com/3/contextlib/#module-contextlib\n",
    "    \"\"\"\n",
    "\n",
    "    def __init__(self, Capacity):\n",
    "        self.capacity = Capacity\n",
    "        self.pumps = \"running\"\n",
    "        self.doors = \"closed\"\n",
    "        self.error = \"\"\n",
    "        \n",
    "\n",
    "    def __enter__(self):     \n",
    "        return self\n",
    "\n",
    "    def __exit__(self, exc_type, exc_val, exc_tb):\n",
    "        if self.error == \"\":\n",
    "            self.doors = \"closed\"\n",
    "            print(\"Closing the doors.\")\n",
    "            self.pumps = \"running\"\n",
    "            print(\"Restarting the pumps.\")\n",
    "        else:\n",
    "            print(self.error)\n",
    "        return self\n",
    "    \n",
    "    def move_boats_through(self,boats):\n",
    "        if boats<=locke.capacity:\n",
    "            self.pumps = \"stopped\"\n",
    "            print(\"Stopping the pumps.\")\n",
    "            self.doors = \"opened\"\n",
    "            print(\"Opening the doors.\")\n",
    "        else:\n",
    "            locke.error='Capacity exceeded. Reduce the number of boats.'\n",
    "        \n",
    "        \n",
    "\n",
    "small_locke = Locke(5)\n",
    "large_locke = Locke(10)\n",
    "boats = 8\n",
    "\n",
    "with small_locke as locke:\n",
    "    print('SMALL LOCK')\n",
    "    locke.move_boats_through(boats)\n",
    "\n",
    "# print(small_locke.pumps, small_locke.doors)\n",
    "        \n",
    "with large_locke as locke:  \n",
    "    print('LARGE LOCK')\n",
    "    locke.move_boats_through(boats)\n",
    "  \n",
    "# print(large_locke.pumps, large_locke.doors)    \n",
    "\n",
    "    "
   ]
  }
 ],
 "metadata": {
  "kernelspec": {
   "display_name": "trading",
   "language": "python",
   "name": "trading"
  },
  "language_info": {
   "codemirror_mode": {
    "name": "ipython",
    "version": 3
   },
   "file_extension": ".py",
   "mimetype": "text/x-python",
   "name": "python",
   "nbconvert_exporter": "python",
   "pygments_lexer": "ipython3",
   "version": "3.6.6"
  }
 },
 "nbformat": 4,
 "nbformat_minor": 2
}
