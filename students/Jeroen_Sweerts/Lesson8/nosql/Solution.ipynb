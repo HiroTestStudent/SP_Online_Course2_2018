{
 "cells": [
  {
   "cell_type": "markdown",
   "metadata": {},
   "source": [
    "# Assignment"
   ]
  },
  {
   "cell_type": "markdown",
   "metadata": {},
   "source": [
    "MONGODB\n",
    "\n",
    "Add some extra furniture items for mongodb. And while you're doing that, separate the product field in to 2 fields; one called product type, one called color. Start by amending the data, then change the Mongodb program to store and retrieve using these new values.\n",
    "\n",
    "\n",
    "Next, write a mongodb query to retrieve and print just the red products, an the just the couches. "
   ]
  },
  {
   "cell_type": "code",
   "execution_count": 1,
   "metadata": {
    "scrolled": true
   },
   "outputs": [
    {
     "name": "stdout",
     "output_type": "stream",
     "text": [
      "2019-05-31 18:40:33 - INFO - Here is where we use the connect to mongodb.\n",
      "2019-05-31 18:40:33 - INFO - Note use of f string to embed the user & password (from the tuple).\n",
      "2019-05-31 18:40:34 - INFO - Mongodb assignment\n",
      "CREATE MONGODB\n",
      "2019-05-31 18:40:34 - INFO - Here is where we use the connect to mongodb.\n",
      "2019-05-31 18:40:34 - INFO - Note use of f string to embed the user & password (from the tuple).\n",
      "2019-05-31 18:40:34 - INFO - Step 1: We are going to use a database called dev\n",
      "2019-05-31 18:40:34 - INFO - But if it doesnt exist mongodb creates it\n",
      "2019-05-31 18:40:34 - INFO - And in that database use a collection called furniture\n",
      "2019-05-31 18:40:34 - INFO - If it doesnt exist mongodb creates it\n",
      "2019-05-31 18:40:34 - INFO - Step 2: Now we add data from the dictionary above\n",
      "RETRIEVING DATA\n",
      "2019-05-31 18:40:34 - INFO - Here is where we use the connect to mongodb.\n",
      "2019-05-31 18:40:34 - INFO - Note use of f string to embed the user & password (from the tuple).\n",
      "2019-05-31 18:40:34 - INFO - Step 1: We are going to use a database called dev\n",
      "2019-05-31 18:40:34 - INFO - But if it doesnt exist mongodb creates it\n",
      "2019-05-31 18:40:34 - INFO - And in that database use a collection called furniture\n",
      "2019-05-31 18:40:34 - INFO - If it doesnt exist mongodb creates it\n",
      "2019-05-31 18:40:34 - INFO - Step 8: Assignment\n",
      "Red products\n",
      "{'_id': ObjectId('5cf15902099e2622e20086a4'),\n",
      " 'description': 'Leather low back',\n",
      " 'in_stock_quantity': 10,\n",
      " 'monthly_rental_cost': 12.99,\n",
      " 'product_color': 'Red',\n",
      " 'product_type': 'Couch'}\n",
      "{'_id': ObjectId('5cf15902099e2622e20086a7'),\n",
      " 'description': 'Leather high back',\n",
      " 'in_stock_quantity': 17,\n",
      " 'monthly_rental_cost': 15.99,\n",
      " 'product_color': 'Red',\n",
      " 'product_type': 'Couch'}\n",
      "{'_id': ObjectId('5cf15902099e2622e20086aa'),\n",
      " 'description': 'Difficult to assemble. Some screws missing.',\n",
      " 'in_stock_quantity': 10000,\n",
      " 'monthly_rental_cost': 2.5,\n",
      " 'product_color': 'Red',\n",
      " 'product_type': 'IKEA table'}\n",
      "##################################################\n",
      "Couches\n",
      "{'_id': ObjectId('5cf15902099e2622e20086a4'),\n",
      " 'description': 'Leather low back',\n",
      " 'in_stock_quantity': 10,\n",
      " 'monthly_rental_cost': 12.99,\n",
      " 'product_color': 'Red',\n",
      " 'product_type': 'Couch'}\n",
      "{'_id': ObjectId('5cf15902099e2622e20086a5'),\n",
      " 'description': 'Cloth high back',\n",
      " 'in_stock_quantity': 3,\n",
      " 'monthly_rental_cost': 9.99,\n",
      " 'product_color': 'Blue',\n",
      " 'product_type': 'Couch'}\n",
      "{'_id': ObjectId('5cf15902099e2622e20086a7'),\n",
      " 'description': 'Leather high back',\n",
      " 'in_stock_quantity': 17,\n",
      " 'monthly_rental_cost': 15.99,\n",
      " 'product_color': 'Red',\n",
      " 'product_type': 'Couch'}\n",
      "{'_id': ObjectId('5cf15902099e2622e20086ab'),\n",
      " 'description': '1 seater: the ego-chair',\n",
      " 'in_stock_quantity': 1,\n",
      " 'monthly_rental_cost': 1.11,\n",
      " 'product_color': 'Mustard yellow',\n",
      " 'product_type': 'Couch'}\n"
     ]
    }
   ],
   "source": [
    "import learn_data\n",
    "import mongodb_script\n",
    "import utilities\n",
    "\n",
    "def showoff_assignment():\n",
    "    \"\"\"\n",
    "    Here we illustrate basic interaction with nosql databases\n",
    "    \"\"\"\n",
    "    mongodb_script.drop_db()\n",
    "    log = utilities.configure_logger('default', '../logs/nosql_dev.log')\n",
    "\n",
    "    log.info(\"Mongodb assignment\")\n",
    "    furniture = learn_data.get_furniture_data()\n",
    "    print(\"CREATE MONGODB\")\n",
    "    mongodb_script.mongo_assignment_create(furniture)\n",
    "    print(\"RETRIEVING DATA\")\n",
    "    mongodb_script.mongo_assignment_retrieve()\n",
    "    \n",
    "\n",
    "\n",
    "\n",
    "\n",
    "if __name__ == '__main__':\n",
    "    \"\"\"\n",
    "    orchestrate nosql examples\n",
    "    \"\"\"\n",
    "\n",
    "    showoff_assignment()"
   ]
  }
 ],
 "metadata": {
  "kernelspec": {
   "display_name": "trading",
   "language": "python",
   "name": "trading"
  },
  "language_info": {
   "codemirror_mode": {
    "name": "ipython",
    "version": 3
   },
   "file_extension": ".py",
   "mimetype": "text/x-python",
   "name": "python",
   "nbconvert_exporter": "python",
   "pygments_lexer": "ipython3",
   "version": "3.6.6"
  }
 },
 "nbformat": 4,
 "nbformat_minor": 2
}
