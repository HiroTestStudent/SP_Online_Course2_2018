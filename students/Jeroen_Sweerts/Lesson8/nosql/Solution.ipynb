{
 "cells": [
  {
   "cell_type": "markdown",
   "metadata": {},
   "source": [
    "# Assignment"
   ]
  },
  {
   "cell_type": "markdown",
   "metadata": {},
   "source": [
    "MONGODB\n",
    "\n",
    "Add some extra furniture items for mongodb. And while you're doing that, separate the product field in to 2 fields; one called product type, one called color. Start by amending the data, then change the Mongodb program to store and retrieve using these new values.\n",
    "\n",
    "\n",
    "Next, write a mongodb query to retrieve and print just the red products, an the just the couches. "
   ]
  },
  {
   "cell_type": "code",
   "execution_count": null,
   "metadata": {
    "scrolled": false
   },
   "outputs": [],
   "source": [
    "import learn_data\n",
    "import mongodb_script\n",
    "import utilities\n",
    "\n",
    "def showoff_assignment():\n",
    "    \"\"\"\n",
    "    Here we illustrate basic interaction with nosql databases\n",
    "    \"\"\"\n",
    "    mongodb_script.drop_db()\n",
    "    log = utilities.configure_logger('default', '../logs/nosql_dev.log')\n",
    "\n",
    "    log.info(\"Mongodb assignment\")\n",
    "    furniture = learn_data.get_furniture_data()\n",
    "    print(\"CREATE MONGODB\")\n",
    "    mongodb_script.mongo_assignment_create(furniture)\n",
    "    print(\"RETRIEVING DATA\")\n",
    "    mongodb_script.mongo_assignment_retrieve()\n",
    "    \n",
    "\n",
    "\n",
    "\n",
    "\n",
    "if __name__ == '__main__':\n",
    "    \"\"\"\n",
    "    orchestrate nosql examples\n",
    "    \"\"\"\n",
    "\n",
    "    showoff_assignment()"
   ]
  },
  {
   "cell_type": "markdown",
   "metadata": {},
   "source": [
    "REDIS\n",
    "\n",
    "Add some customer data to the cache, Have Redis store a customer name, telephone and zip for 6 or so customers. Then show how you can retrieve a zip code, and then a phone number, for a known customer."
   ]
  },
  {
   "cell_type": "code",
   "execution_count": null,
   "metadata": {},
   "outputs": [],
   "source": [
    "import redis_script\n",
    "import utilities\n",
    "\n",
    "\n",
    "def showoff_databases():\n",
    "    log = utilities.configure_logger('default', 'logs/nosql_dev.log')\n",
    "    redis_script.redis_assignment_create()\n",
    "\n",
    "\n",
    "\n",
    "if __name__ == '__main__':\n",
    "    \"\"\"\n",
    "    orchestrate nosql examples\n",
    "    \"\"\"\n",
    "\n",
    "    showoff_databases()\n"
   ]
  },
  {
   "cell_type": "markdown",
   "metadata": {},
   "source": [
    "Neo4J\n",
    "\n",
    "Add some new people to the database. Then add some colors. Create associations between people and their favorite colors (they can have more than one). Then list all of the people who have each color as their favorite. Can you also list all of the everyones favorite colors?\n",
    "\n"
   ]
  },
  {
   "cell_type": "code",
   "execution_count": 1,
   "metadata": {},
   "outputs": [
    {
     "name": "stdout",
     "output_type": "stream",
     "text": [
      "2019-05-31 22:35:47 - INFO - Step 1: First, clear the entire database, so we can start over\n",
      "2019-05-31 22:35:47 - INFO - Running clear_all\n",
      "2019-05-31 22:35:47 - INFO - Here is where we use the connect to neo4j.\n",
      "2019-05-31 22:35:47 - INFO - \n",
      "2019-05-31 22:35:48 - INFO - Step 2: Add a few people\n",
      "2019-05-31 22:35:48 - INFO - Adding a few Person nodes\n",
      "2019-05-31 22:35:48 - INFO - The cyph language is analagous to sql for neo4j\n",
      "2019-05-31 22:35:48 - INFO - Step 3: Get all of people in the DB:\n",
      "People in database:\n",
      "Bob Jones\n",
      "Nancy Cooper\n",
      "Alice Cooper\n",
      "Fred Barnes\n",
      "Mary Evans\n",
      "Marie Curie\n",
      "Pal Jas\n",
      "Mad Onna\n",
      "Hillarious Clinton\n",
      "2019-05-31 22:35:49 - INFO - Assign favorite colors to people.\n",
      "2019-05-31 22:35:49 - INFO - Show people's favorite colors\n",
      "The people who like White are:\n",
      "Marie Curie\n",
      "Mary Evans\n",
      "Fred Barnes\n",
      "The people who like Rainbow are:\n",
      "Hillarious Clinton\n",
      "Mad Onna\n",
      "Pal Jas\n",
      "The people who like AppleBlueSeaGreen are:\n",
      "Hillarious Clinton\n",
      "Mad Onna\n",
      "Pal Jas\n",
      "Alice Cooper\n",
      "Nancy Cooper\n",
      "Bob Jones\n",
      "The people who like Pistache are:\n",
      "Alice Cooper\n",
      "Nancy Cooper\n",
      "Bob Jones\n",
      "The people who like Kakki are:\n",
      "Marie Curie\n",
      "Mary Evans\n",
      "Fred Barnes\n",
      "The people who like Black are:\n",
      "Marie Curie\n",
      "Mary Evans\n",
      "Fred Barnes\n",
      "The people who like Pink are:\n",
      "Alice Cooper\n",
      "Nancy Cooper\n",
      "Bob Jones\n",
      "Bob Jones's favorite colors are:\n",
      "Pistache\n",
      "AppleBlueSeaGreen\n",
      "Pink\n",
      "Nancy Cooper's favorite colors are:\n",
      "Pistache\n",
      "AppleBlueSeaGreen\n",
      "Pink\n",
      "Alice Cooper's favorite colors are:\n",
      "Pistache\n",
      "AppleBlueSeaGreen\n",
      "Pink\n",
      "Fred Barnes's favorite colors are:\n",
      "White\n",
      "Black\n",
      "Kakki\n",
      "Mary Evans's favorite colors are:\n",
      "White\n",
      "Black\n",
      "Kakki\n",
      "Marie Curie's favorite colors are:\n",
      "White\n",
      "Black\n",
      "Kakki\n",
      "Pal Jas's favorite colors are:\n",
      "Rainbow\n",
      "AppleBlueSeaGreen\n",
      "Mad Onna's favorite colors are:\n",
      "Rainbow\n",
      "AppleBlueSeaGreen\n",
      "Hillarious Clinton's favorite colors are:\n",
      "Rainbow\n",
      "AppleBlueSeaGreen\n"
     ]
    }
   ],
   "source": [
    "import neo4j_script\n",
    "import utilities\n",
    "\n",
    "\n",
    "def showoff_databases():\n",
    "    log = utilities.configure_logger('default', 'logs/nosql_dev.log')\n",
    "    neo4j_script.neo4j_assignment()\n",
    "#     neo4j_script.run_example()\n",
    "\n",
    "\n",
    "\n",
    "if __name__ == '__main__':\n",
    "    \"\"\"\n",
    "    orchestrate nosql examples\n",
    "    \"\"\"\n",
    "\n",
    "    showoff_databases()\n"
   ]
  }
 ],
 "metadata": {
  "kernelspec": {
   "display_name": "trading",
   "language": "python",
   "name": "trading"
  },
  "language_info": {
   "codemirror_mode": {
    "name": "ipython",
    "version": 3
   },
   "file_extension": ".py",
   "mimetype": "text/x-python",
   "name": "python",
   "nbconvert_exporter": "python",
   "pygments_lexer": "ipython3",
   "version": "3.6.6"
  }
 },
 "nbformat": 4,
 "nbformat_minor": 2
}
