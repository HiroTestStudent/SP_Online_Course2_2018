{
 "cells": [
  {
   "cell_type": "markdown",
   "metadata": {},
   "source": [
    "# Assignment"
   ]
  },
  {
   "cell_type": "markdown",
   "metadata": {},
   "source": [
    "MONGODB\n",
    "\n",
    "Add some extra furniture items for mongodb. And while you're doing that, separate the product field in to 2 fields; one called product type, one called color. Start by amending the data, then change the Mongodb program to store and retrieve using these new values.\n",
    "\n",
    "\n",
    "Next, write a mongodb query to retrieve and print just the red products, an the just the couches. "
   ]
  },
  {
   "cell_type": "code",
   "execution_count": 2,
   "metadata": {
    "scrolled": false
   },
   "outputs": [
    {
     "name": "stdout",
     "output_type": "stream",
     "text": [
      "2019-05-31 23:18:18 - INFO - Here is where we use the connect to mongodb.\n",
      "2019-05-31 23:18:18 - INFO - Note use of f string to embed the user & password (from the tuple).\n",
      "2019-05-31 23:18:20 - INFO - Mongodb assignment\n",
      "CREATE MONGODB\n",
      "2019-05-31 23:18:20 - INFO - Here is where we use the connect to mongodb.\n",
      "2019-05-31 23:18:20 - INFO - Note use of f string to embed the user & password (from the tuple).\n",
      "2019-05-31 23:18:20 - INFO - Step 1: We are going to use a database called dev\n",
      "2019-05-31 23:18:20 - INFO - But if it doesnt exist mongodb creates it\n",
      "2019-05-31 23:18:20 - INFO - And in that database use a collection called furniture\n",
      "2019-05-31 23:18:20 - INFO - If it doesnt exist mongodb creates it\n",
      "2019-05-31 23:18:20 - INFO - Step 2: Now we add data from the dictionary above\n",
      "RETRIEVING DATA\n",
      "2019-05-31 23:18:20 - INFO - Here is where we use the connect to mongodb.\n",
      "2019-05-31 23:18:20 - INFO - Note use of f string to embed the user & password (from the tuple).\n",
      "2019-05-31 23:18:20 - INFO - Step 1: We are going to use a database called dev\n",
      "2019-05-31 23:18:20 - INFO - But if it doesnt exist mongodb creates it\n",
      "2019-05-31 23:18:20 - INFO - And in that database use a collection called furniture\n",
      "2019-05-31 23:18:20 - INFO - If it doesnt exist mongodb creates it\n",
      "2019-05-31 23:18:20 - INFO - Step 8: Assignment\n",
      "Red products\n",
      "{'_id': ObjectId('5cf19a1cd38d10ac207565db'),\n",
      " 'description': 'Leather low back',\n",
      " 'in_stock_quantity': 10,\n",
      " 'monthly_rental_cost': 12.99,\n",
      " 'product_color': 'Red',\n",
      " 'product_type': 'Couch'}\n",
      "{'_id': ObjectId('5cf19a1cd38d10ac207565de'),\n",
      " 'description': 'Leather high back',\n",
      " 'in_stock_quantity': 17,\n",
      " 'monthly_rental_cost': 15.99,\n",
      " 'product_color': 'Red',\n",
      " 'product_type': 'Couch'}\n",
      "{'_id': ObjectId('5cf19a1cd38d10ac207565e1'),\n",
      " 'description': 'Difficult to assemble. Some screws missing.',\n",
      " 'in_stock_quantity': 10000,\n",
      " 'monthly_rental_cost': 2.5,\n",
      " 'product_color': 'Red',\n",
      " 'product_type': 'IKEA table'}\n",
      "##################################################\n",
      "Couches\n",
      "{'_id': ObjectId('5cf19a1cd38d10ac207565db'),\n",
      " 'description': 'Leather low back',\n",
      " 'in_stock_quantity': 10,\n",
      " 'monthly_rental_cost': 12.99,\n",
      " 'product_color': 'Red',\n",
      " 'product_type': 'Couch'}\n",
      "{'_id': ObjectId('5cf19a1cd38d10ac207565dc'),\n",
      " 'description': 'Cloth high back',\n",
      " 'in_stock_quantity': 3,\n",
      " 'monthly_rental_cost': 9.99,\n",
      " 'product_color': 'Blue',\n",
      " 'product_type': 'Couch'}\n",
      "{'_id': ObjectId('5cf19a1cd38d10ac207565de'),\n",
      " 'description': 'Leather high back',\n",
      " 'in_stock_quantity': 17,\n",
      " 'monthly_rental_cost': 15.99,\n",
      " 'product_color': 'Red',\n",
      " 'product_type': 'Couch'}\n",
      "{'_id': ObjectId('5cf19a1cd38d10ac207565e2'),\n",
      " 'description': '1 seater: the ego-chair',\n",
      " 'in_stock_quantity': 1,\n",
      " 'monthly_rental_cost': 1.11,\n",
      " 'product_color': 'Mustard yellow',\n",
      " 'product_type': 'Couch'}\n"
     ]
    }
   ],
   "source": [
    "import learn_data\n",
    "import mongodb_script\n",
    "import utilities\n",
    "\n",
    "def showoff_assignment():\n",
    "    \"\"\"\n",
    "    Here we illustrate basic interaction with nosql databases\n",
    "    \"\"\"\n",
    "    mongodb_script.drop_db()\n",
    "    log = utilities.configure_logger('default', '../logs/nosql_dev.log')\n",
    "\n",
    "    log.info(\"Mongodb assignment\")\n",
    "    furniture = learn_data.get_furniture_data()\n",
    "    print(\"CREATE MONGODB\")\n",
    "    mongodb_script.mongo_assignment_create(furniture)\n",
    "    print(\"RETRIEVING DATA\")\n",
    "    mongodb_script.mongo_assignment_retrieve()\n",
    "    \n",
    "\n",
    "\n",
    "\n",
    "\n",
    "if __name__ == '__main__':\n",
    "    \"\"\"\n",
    "    orchestrate nosql examples\n",
    "    \"\"\"\n",
    "\n",
    "    showoff_assignment()"
   ]
  },
  {
   "cell_type": "markdown",
   "metadata": {},
   "source": [
    "REDIS\n",
    "\n",
    "Add some customer data to the cache, Have Redis store a customer name, telephone and zip for 6 or so customers. Then show how you can retrieve a zip code, and then a phone number, for a known customer."
   ]
  },
  {
   "cell_type": "code",
   "execution_count": 3,
   "metadata": {},
   "outputs": [
    {
     "name": "stdout",
     "output_type": "stream",
     "text": [
      "2019-05-31 23:18:20 - INFO - Step 1: connect to Redis\n",
      "2019-05-31 23:18:20 - INFO - Here is where we use the connect to redis.\n",
      "2019-05-31 23:18:22 - INFO - Jeroen Phone Number = 15555222\n",
      "2019-05-31 23:18:22 - INFO - Jeroen Zip Code = 2800\n"
     ]
    }
   ],
   "source": [
    "import redis_script\n",
    "import utilities\n",
    "\n",
    "\n",
    "def showoff_databases():\n",
    "    log = utilities.configure_logger('default', 'logs/nosql_dev.log')\n",
    "    redis_script.redis_assignment_create()\n",
    "\n",
    "\n",
    "\n",
    "if __name__ == '__main__':\n",
    "    \"\"\"\n",
    "    orchestrate nosql examples\n",
    "    \"\"\"\n",
    "\n",
    "    showoff_databases()\n"
   ]
  },
  {
   "cell_type": "markdown",
   "metadata": {},
   "source": [
    "Neo4J\n",
    "\n",
    "Add some new people to the database. Then add some colors. Create associations between people and their favorite colors (they can have more than one). Then list all of the people who have each color as their favorite. Can you also list all of the everyones favorite colors?\n",
    "\n"
   ]
  },
  {
   "cell_type": "code",
   "execution_count": 4,
   "metadata": {
    "scrolled": false
   },
   "outputs": [
    {
     "name": "stdout",
     "output_type": "stream",
     "text": [
      "2019-05-31 23:18:22 - INFO - Step 1: First, clear the entire database, so we can start over\n",
      "2019-05-31 23:18:22 - INFO - Running clear_all\n",
      "2019-05-31 23:18:22 - INFO - Here is where we use the connect to neo4j.\n",
      "2019-05-31 23:18:22 - INFO - \n",
      "2019-05-31 23:18:23 - INFO - Step 2: Add a few people\n",
      "2019-05-31 23:18:23 - INFO - Adding a few Person nodes\n",
      "2019-05-31 23:18:23 - INFO - The cyph language is analagous to sql for neo4j\n",
      "2019-05-31 23:18:24 - INFO - Step 3: Get all of people in the DB:\n",
      "People in database:\n",
      "Bob Jones\n",
      "Nancy Cooper\n",
      "Alice Cooper\n",
      "Fred Barnes\n",
      "Mary Evans\n",
      "Marie Curie\n",
      "Pal Jas\n",
      "Mad Onna\n",
      "Hillarious Clinton\n",
      "2019-05-31 23:18:24 - INFO - Assign favorite colors to people.\n",
      "2019-05-31 23:18:24 - INFO - Show people's favorite colors\n",
      "The people who like White are:\n",
      "Marie Curie\n",
      "Mary Evans\n",
      "Fred Barnes\n",
      "The people who like Pink are:\n",
      "Alice Cooper\n",
      "Nancy Cooper\n",
      "Bob Jones\n",
      "The people who like AppleBlueSeaGreen are:\n",
      "Hillarious Clinton\n",
      "Mad Onna\n",
      "Pal Jas\n",
      "Alice Cooper\n",
      "Nancy Cooper\n",
      "Bob Jones\n",
      "The people who like Pistache are:\n",
      "Alice Cooper\n",
      "Nancy Cooper\n",
      "Bob Jones\n",
      "The people who like Kakki are:\n",
      "Marie Curie\n",
      "Mary Evans\n",
      "Fred Barnes\n",
      "The people who like Black are:\n",
      "Marie Curie\n",
      "Mary Evans\n",
      "Fred Barnes\n",
      "The people who like Rainbow are:\n",
      "Hillarious Clinton\n",
      "Mad Onna\n",
      "Pal Jas\n",
      "Bob Jones's favorite colors are:\n",
      "Pistache\n",
      "AppleBlueSeaGreen\n",
      "Pink\n",
      "Nancy Cooper's favorite colors are:\n",
      "Pistache\n",
      "AppleBlueSeaGreen\n",
      "Pink\n",
      "Alice Cooper's favorite colors are:\n",
      "Pistache\n",
      "AppleBlueSeaGreen\n",
      "Pink\n",
      "Fred Barnes's favorite colors are:\n",
      "White\n",
      "Black\n",
      "Kakki\n",
      "Mary Evans's favorite colors are:\n",
      "White\n",
      "Black\n",
      "Kakki\n",
      "Marie Curie's favorite colors are:\n",
      "White\n",
      "Black\n",
      "Kakki\n",
      "Pal Jas's favorite colors are:\n",
      "Rainbow\n",
      "AppleBlueSeaGreen\n",
      "Mad Onna's favorite colors are:\n",
      "Rainbow\n",
      "AppleBlueSeaGreen\n",
      "Hillarious Clinton's favorite colors are:\n",
      "Rainbow\n",
      "AppleBlueSeaGreen\n"
     ]
    }
   ],
   "source": [
    "import neo4j_script\n",
    "import utilities\n",
    "\n",
    "\n",
    "def showoff_databases():\n",
    "    log = utilities.configure_logger('default', 'logs/nosql_dev.log')\n",
    "    neo4j_script.neo4j_assignment()\n",
    "\n",
    "if __name__ == '__main__':\n",
    "    \"\"\"\n",
    "    orchestrate nosql examples\n",
    "    \"\"\"\n",
    "\n",
    "    showoff_databases()\n"
   ]
  },
  {
   "cell_type": "markdown",
   "metadata": {},
   "source": [
    "SIMPLE PERSISTENCE AND SERIALIZATION\n",
    "\n",
    "Pick one of the 4 formats only. Create some data (at least 10 rows with about 5 fields in each). Show how you can read and write data in that format. For an extra assignment, write a program that reads form one format and converts to another."
   ]
  },
  {
   "cell_type": "code",
   "execution_count": 5,
   "metadata": {},
   "outputs": [
    {
     "name": "stdout",
     "output_type": "stream",
     "text": [
      "2019-05-31 23:18:26 - INFO - \n",
      "\n",
      "====\n",
      "2019-05-31 23:18:26 - INFO - Write csv file\n",
      "2019-05-31 23:18:26 - INFO - Read csv file back\n",
      "[\"('Nissan', 'GTR', 90000)\",\n",
      " \"('Porsche', 'GT2RS', 300000)\",\n",
      " \"('BMW', 'M4', 80000)\",\n",
      " \"('McLaren', 'Senna', 320000)\",\n",
      " \"('Mercedes', 'A45 AMG', 60000)\",\n",
      " \"('Audi', 'RS4', 82000)\"]\n"
     ]
    }
   ],
   "source": [
    "import simple_script\n",
    "import utilities\n",
    "\n",
    "\n",
    "def showoff_databases():\n",
    "    log = utilities.configure_logger('default', 'logs/nosql_dev.log')\n",
    "    simple_script.Asignment_csv()\n",
    "\n",
    "if __name__ == '__main__':\n",
    "    \"\"\"\n",
    "    orchestrate nosql examples\n",
    "    \"\"\"\n",
    "\n",
    "    showoff_databases()\n"
   ]
  }
 ],
 "metadata": {
  "kernelspec": {
   "display_name": "trading",
   "language": "python",
   "name": "trading"
  },
  "language_info": {
   "codemirror_mode": {
    "name": "ipython",
    "version": 3
   },
   "file_extension": ".py",
   "mimetype": "text/x-python",
   "name": "python",
   "nbconvert_exporter": "python",
   "pygments_lexer": "ipython3",
   "version": "3.6.6"
  }
 },
 "nbformat": 4,
 "nbformat_minor": 2
}
