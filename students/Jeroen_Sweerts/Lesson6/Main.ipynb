{
 "cells": [
  {
   "cell_type": "code",
   "execution_count": 1,
   "metadata": {},
   "outputs": [],
   "source": [
    "from calculator.adder import Adder\n",
    "from calculator.subtracter import Subtracter\n",
    "from calculator.multiplier import Multiplier\n",
    "from calculator.divider import Divider\n",
    "from calculator.calculator import Calculator"
   ]
  },
  {
   "cell_type": "code",
   "execution_count": 11,
   "metadata": {},
   "outputs": [
    {
     "name": "stdout",
     "output_type": "stream",
     "text": [
      "[6, 5]\n",
      "11\n",
      "[11]\n",
      "-9\n",
      "[-9]\n"
     ]
    }
   ],
   "source": [
    "calculator = Calculator(Adder(),Subtracter(),Multiplier(),Divider())\n",
    "calculator.enter_number(5)\n",
    "calculator.enter_number(6)\n",
    "print(calculator.stack)\n",
    "print(calculator.add())\n",
    "print(calculator.stack)\n",
    "calculator.enter_number(2)\n",
    "print(calculator.subtract())\n",
    "print(calculator.stack)"
   ]
  }
 ],
 "metadata": {
  "kernelspec": {
   "display_name": "trading",
   "language": "python",
   "name": "trading"
  },
  "language_info": {
   "codemirror_mode": {
    "name": "ipython",
    "version": 3
   },
   "file_extension": ".py",
   "mimetype": "text/x-python",
   "name": "python",
   "nbconvert_exporter": "python",
   "pygments_lexer": "ipython3",
   "version": "3.6.6"
  }
 },
 "nbformat": 4,
 "nbformat_minor": 2
}
